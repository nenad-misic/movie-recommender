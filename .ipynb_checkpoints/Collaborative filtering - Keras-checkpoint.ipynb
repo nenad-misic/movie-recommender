{
 "cells": [
  {
   "cell_type": "code",
   "execution_count": 27,
   "id": "0003282b",
   "metadata": {},
   "outputs": [],
   "source": [
    "import os\n",
    "os.environ['TF_CPP_MIN_LOG_LEVEL'] = '2'"
   ]
  },
  {
   "cell_type": "code",
   "execution_count": 28,
   "id": "d846d244",
   "metadata": {},
   "outputs": [],
   "source": [
    "import numpy as np\n",
    "import pandas as pd\n",
    "import matplotlib.pyplot as plt\n",
    "from sklearn.model_selection import train_test_split\n",
    "from keras.models import Sequential\n",
    "from keras.callbacks import ReduceLROnPlateau, EarlyStopping\n",
    "from keras.layers import  Input, dot, concatenate\n",
    "from keras.models import Model\n",
    "from IPython.display import SVG\n",
    "from keras.utils.vis_utils import model_to_dot\n",
    "from keras.layers import Activation, Dense, Dropout, Embedding, Flatten, Conv1D, MaxPooling1D, LSTM"
   ]
  },
  {
   "cell_type": "code",
   "execution_count": 29,
   "id": "9388e588",
   "metadata": {},
   "outputs": [],
   "source": [
    "movies = pd.read_csv('./movielens_dataset/u.item' , header = None , sep = \"|\" , encoding='latin-1')\n",
    "movies.columns = ['movie_id' , 'movie_title' , 'release_date' , 'video_release_date' ,\n",
    "             'IMDb_URL' , 'unknown' , 'Action' , 'Adventure' , 'Animation' ,\n",
    "             'Childrens' , 'Comedy' , 'Crime' , 'Documentary' , 'Drama' , 'Fantasy' ,\n",
    "             'Film_Noir' , 'Horror' , 'Musical' , 'Mystery' , 'Romance' , 'Sci_Fi' ,\n",
    "             'Thriller' , 'War' , 'Western']\n",
    "\n",
    "users = pd.read_csv('./movielens_dataset/u.user', header= None , sep = '|')\n",
    "users.columns = ['user_id' , 'age' , 'gender' , 'occupation' , 'zip_code']\n",
    "\n",
    "ratings = pd.read_csv('./movielens_dataset/u.data', header= None , sep = '\\t')\n",
    "ratings.columns = ['user_id' , 'movie_id' , 'rating' , 'timestamp']"
   ]
  },
  {
   "cell_type": "code",
   "execution_count": 30,
   "id": "fed24a8e",
   "metadata": {},
   "outputs": [],
   "source": [
    "data = ratings.merge(users , on='user_id')\n",
    "data = data.merge(movies , on='movie_id')"
   ]
  },
  {
   "cell_type": "code",
   "execution_count": 31,
   "id": "9da52512",
   "metadata": {},
   "outputs": [],
   "source": [
    "data = data.sample(frac = 1)\n",
    "data_train_x = np.array(data[['user_id' , 'movie_id']].values)\n",
    "data_train_y = np.array(data['rating'].values)\n",
    "x_train, x_test, y_train, y_test = train_test_split(data_train_x, data_train_y, test_size = 0.2, random_state = 98)\n",
    "n_factors = 50\n",
    "n_users = len(np.unique(data['user_id']))\n",
    "n_movies = len(np.unique(data['movie_id']))"
   ]
  },
  {
   "cell_type": "code",
   "execution_count": 32,
   "id": "f4739eb5",
   "metadata": {},
   "outputs": [],
   "source": [
    "user_input = Input(shape=(1,))\n",
    "user_embeddings = Embedding(input_dim = n_users+1, output_dim=n_factors, input_length=1)(user_input)\n",
    "user_vector = Flatten()(user_embeddings)\n",
    "\n",
    "movie_input = Input(shape = (1,))\n",
    "movie_embeddings = Embedding(input_dim = n_movies+1 , output_dim = n_factors , input_length = 1)(movie_input)\n",
    "movie_vector = Flatten()(movie_embeddings)\n",
    "\n",
    "merged_vectors = concatenate([user_vector, movie_vector])\n",
    "dense_layer_1 = Dense(100 , activation = 'relu')(merged_vectors)\n",
    "dense_layer_3 = Dropout(.5)(dense_layer_1)\n",
    "dense_layer_2 = Dense(1)(dense_layer_3)\n",
    "model = Model([user_input, movie_input], dense_layer_2)"
   ]
  },
  {
   "cell_type": "code",
   "execution_count": 36,
   "id": "e7f1a139",
   "metadata": {},
   "outputs": [
    {
     "name": "stdout",
     "output_type": "stream",
     "text": [
      "Model: \"model_1\"\n",
      "__________________________________________________________________________________________________\n",
      "Layer (type)                    Output Shape         Param #     Connected to                     \n",
      "==================================================================================================\n",
      "input_3 (InputLayer)            [(None, 1)]          0                                            \n",
      "__________________________________________________________________________________________________\n",
      "input_4 (InputLayer)            [(None, 1)]          0                                            \n",
      "__________________________________________________________________________________________________\n",
      "embedding_2 (Embedding)         (None, 1, 50)        47200       input_3[0][0]                    \n",
      "__________________________________________________________________________________________________\n",
      "embedding_3 (Embedding)         (None, 1, 50)        84150       input_4[0][0]                    \n",
      "__________________________________________________________________________________________________\n",
      "flatten_2 (Flatten)             (None, 50)           0           embedding_2[0][0]                \n",
      "__________________________________________________________________________________________________\n",
      "flatten_3 (Flatten)             (None, 50)           0           embedding_3[0][0]                \n",
      "__________________________________________________________________________________________________\n",
      "concatenate_1 (Concatenate)     (None, 100)          0           flatten_2[0][0]                  \n",
      "                                                                 flatten_3[0][0]                  \n",
      "__________________________________________________________________________________________________\n",
      "dense_2 (Dense)                 (None, 100)          10100       concatenate_1[0][0]              \n",
      "__________________________________________________________________________________________________\n",
      "dropout_1 (Dropout)             (None, 100)          0           dense_2[0][0]                    \n",
      "__________________________________________________________________________________________________\n",
      "dense_3 (Dense)                 (None, 1)            101         dropout_1[0][0]                  \n",
      "==================================================================================================\n",
      "Total params: 141,551\n",
      "Trainable params: 141,551\n",
      "Non-trainable params: 0\n",
      "__________________________________________________________________________________________________\n"
     ]
    }
   ],
   "source": [
    "model.compile(loss='mean_squared_error', optimizer='adam' ,metrics = ['accuracy'] )\n",
    "model.summary()"
   ]
  },
  {
   "cell_type": "code",
   "execution_count": 37,
   "id": "34858077",
   "metadata": {},
   "outputs": [
    {
     "name": "stdout",
     "output_type": "stream",
     "text": [
      "Epoch 1/20\n",
      "625/625 [==============================] - 2s 3ms/step - loss: 2.2648 - accuracy: 0.0569 - val_loss: 0.9726 - val_accuracy: 0.0617\n",
      "Epoch 2/20\n",
      "625/625 [==============================] - 2s 2ms/step - loss: 1.1394 - accuracy: 0.0607 - val_loss: 0.9315 - val_accuracy: 0.0617\n",
      "Epoch 3/20\n",
      "625/625 [==============================] - 2s 2ms/step - loss: 1.1038 - accuracy: 0.0608 - val_loss: 0.9232 - val_accuracy: 0.0617\n",
      "Epoch 4/20\n",
      "625/625 [==============================] - 1s 2ms/step - loss: 1.0817 - accuracy: 0.0609 - val_loss: 0.9124 - val_accuracy: 0.0617\n",
      "Epoch 5/20\n",
      "625/625 [==============================] - 2s 3ms/step - loss: 1.0574 - accuracy: 0.0609 - val_loss: 0.9214 - val_accuracy: 0.0617\n",
      "Epoch 6/20\n",
      "625/625 [==============================] - 1s 2ms/step - loss: 1.0262 - accuracy: 0.0609 - val_loss: 0.9078 - val_accuracy: 0.0618\n",
      "Epoch 7/20\n",
      "625/625 [==============================] - ETA: 0s - loss: 1.0007 - accuracy: 0.06 - 1s 2ms/step - loss: 1.0008 - accuracy: 0.0609 - val_loss: 0.9106 - val_accuracy: 0.0618\n",
      "Epoch 8/20\n",
      "625/625 [==============================] - 2s 2ms/step - loss: 0.9807 - accuracy: 0.0609 - val_loss: 0.8982 - val_accuracy: 0.0618\n",
      "Epoch 9/20\n",
      "625/625 [==============================] - 1s 2ms/step - loss: 0.9505 - accuracy: 0.0607 - val_loss: 0.8947 - val_accuracy: 0.0617\n",
      "Epoch 10/20\n",
      "625/625 [==============================] - 1s 2ms/step - loss: 0.9222 - accuracy: 0.0604 - val_loss: 0.8925 - val_accuracy: 0.0617\n",
      "Epoch 11/20\n",
      "625/625 [==============================] - 2s 3ms/step - loss: 0.8984 - accuracy: 0.0602 - val_loss: 0.8889 - val_accuracy: 0.0617\n",
      "Epoch 12/20\n",
      "625/625 [==============================] - 2s 2ms/step - loss: 0.8729 - accuracy: 0.0600 - val_loss: 0.8863 - val_accuracy: 0.0618\n",
      "Epoch 13/20\n",
      "625/625 [==============================] - 1s 2ms/step - loss: 0.8587 - accuracy: 0.0597 - val_loss: 0.8837 - val_accuracy: 0.0615\n",
      "Epoch 14/20\n",
      "625/625 [==============================] - 2s 3ms/step - loss: 0.8403 - accuracy: 0.0595 - val_loss: 0.8796 - val_accuracy: 0.0616\n",
      "Epoch 15/20\n",
      "625/625 [==============================] - 2s 2ms/step - loss: 0.8267 - accuracy: 0.0595 - val_loss: 0.8801 - val_accuracy: 0.0613\n",
      "Epoch 16/20\n",
      "625/625 [==============================] - 2s 2ms/step - loss: 0.8136 - accuracy: 0.0593 - val_loss: 0.8778 - val_accuracy: 0.0611\n",
      "Epoch 17/20\n",
      "625/625 [==============================] - 1s 2ms/step - loss: 0.8015 - accuracy: 0.0593 - val_loss: 0.8791 - val_accuracy: 0.0611\n",
      "Epoch 18/20\n",
      "625/625 [==============================] - 2s 2ms/step - loss: 0.7913 - accuracy: 0.0591 - val_loss: 0.8802 - val_accuracy: 0.0611\n",
      "Epoch 19/20\n",
      "625/625 [==============================] - 2s 2ms/step - loss: 0.7826 - accuracy: 0.0592 - val_loss: 0.8758 - val_accuracy: 0.0608\n",
      "Epoch 20/20\n",
      "625/625 [==============================] - 2s 2ms/step - loss: 0.7709 - accuracy: 0.0589 - val_loss: 0.8766 - val_accuracy: 0.0611\n"
     ]
    }
   ],
   "source": [
    "history = model.fit(\n",
    "    x = [x_train[:,0] , x_train[:,1]] , \n",
    "    y =y_train , batch_size = 128 , \n",
    "    epochs = 20 , \n",
    "    validation_data = ([x_test[:,0] , x_test[:,1]] , y_test)\n",
    ")"
   ]
  },
  {
   "cell_type": "code",
   "execution_count": 38,
   "id": "b75620e4",
   "metadata": {},
   "outputs": [],
   "source": [
    "loss , val_loss , accuracy , val_accuracy = history.history['loss'],history.history['val_loss'],history.history['accuracy'],history.history['val_accuracy']"
   ]
  },
  {
   "cell_type": "code",
   "execution_count": 26,
   "id": "7f6ccff6",
   "metadata": {},
   "outputs": [
    {
     "ename": "NameError",
     "evalue": "name 'loss' is not defined",
     "output_type": "error",
     "traceback": [
      "\u001b[0;31m---------------------------------------------------------------------------\u001b[0m",
      "\u001b[0;31mNameError\u001b[0m                                 Traceback (most recent call last)",
      "\u001b[0;32m/tmp/ipykernel_22500/4270748793.py\u001b[0m in \u001b[0;36m<module>\u001b[0;34m\u001b[0m\n\u001b[1;32m      1\u001b[0m \u001b[0mplt\u001b[0m\u001b[0;34m.\u001b[0m\u001b[0mfigure\u001b[0m\u001b[0;34m(\u001b[0m\u001b[0mfigsize\u001b[0m \u001b[0;34m=\u001b[0m \u001b[0;34m(\u001b[0m\u001b[0;36m12\u001b[0m\u001b[0;34m,\u001b[0m\u001b[0;36m10\u001b[0m\u001b[0;34m)\u001b[0m\u001b[0;34m)\u001b[0m\u001b[0;34m\u001b[0m\u001b[0;34m\u001b[0m\u001b[0m\n\u001b[0;32m----> 2\u001b[0;31m \u001b[0mplt\u001b[0m\u001b[0;34m.\u001b[0m\u001b[0mplot\u001b[0m\u001b[0;34m(\u001b[0m \u001b[0mloss\u001b[0m\u001b[0;34m,\u001b[0m \u001b[0;34m'r--'\u001b[0m\u001b[0;34m)\u001b[0m\u001b[0;34m\u001b[0m\u001b[0;34m\u001b[0m\u001b[0m\n\u001b[0m\u001b[1;32m      3\u001b[0m \u001b[0mplt\u001b[0m\u001b[0;34m.\u001b[0m\u001b[0mplot\u001b[0m\u001b[0;34m(\u001b[0m\u001b[0mval_loss\u001b[0m\u001b[0;34m,\u001b[0m \u001b[0;34m'b-'\u001b[0m\u001b[0;34m)\u001b[0m\u001b[0;34m\u001b[0m\u001b[0;34m\u001b[0m\u001b[0m\n\u001b[1;32m      4\u001b[0m \u001b[0mplt\u001b[0m\u001b[0;34m.\u001b[0m\u001b[0mplot\u001b[0m\u001b[0;34m(\u001b[0m \u001b[0maccuracy\u001b[0m\u001b[0;34m,\u001b[0m \u001b[0;34m'g--'\u001b[0m\u001b[0;34m)\u001b[0m\u001b[0;34m\u001b[0m\u001b[0;34m\u001b[0m\u001b[0m\n\u001b[1;32m      5\u001b[0m \u001b[0mplt\u001b[0m\u001b[0;34m.\u001b[0m\u001b[0mplot\u001b[0m\u001b[0;34m(\u001b[0m\u001b[0mval_accuracy\u001b[0m\u001b[0;34m,\u001b[0m\u001b[0;34m'-'\u001b[0m\u001b[0;34m)\u001b[0m\u001b[0;34m\u001b[0m\u001b[0;34m\u001b[0m\u001b[0m\n",
      "\u001b[0;31mNameError\u001b[0m: name 'loss' is not defined"
     ]
    },
    {
     "data": {
      "text/plain": [
       "<Figure size 864x720 with 0 Axes>"
      ]
     },
     "metadata": {},
     "output_type": "display_data"
    }
   ],
   "source": [
    "plt.figure(figsize = (12,10))\n",
    "plt.plot( loss, 'r--')\n",
    "plt.plot(val_loss, 'b-')\n",
    "plt.plot( accuracy, 'g--')\n",
    "plt.plot(val_accuracy,'-')\n",
    "plt.legend(['Training Loss', 'Validation Loss' , 'Training Accuracy' , 'Validation Accuracy'])\n",
    "plt.xlabel('Epoch')\n",
    "plt.ylabel('Loss')\n",
    "plt.show()"
   ]
  },
  {
   "cell_type": "code",
   "execution_count": 13,
   "id": "a50ac6c8",
   "metadata": {},
   "outputs": [
    {
     "name": "stdout",
     "output_type": "stream",
     "text": [
      "625/625 [==============================] - 1s 1ms/step - loss: 0.8665 - accuracy: 0.0646\n",
      "[0.93088483 0.2541653 ]\n"
     ]
    }
   ],
   "source": [
    "score = model.evaluate([x_test[:,0], x_test[:,1]], y_test)\n",
    "print(np.sqrt(score))"
   ]
  },
  {
   "cell_type": "code",
   "execution_count": 75,
   "id": "85075da4",
   "metadata": {},
   "outputs": [
    {
     "data": {
      "text/plain": [
       "(100000, 1)"
      ]
     },
     "execution_count": 75,
     "metadata": {},
     "output_type": "execute_result"
    }
   ],
   "source": [
    "\n"
   ]
  },
  {
   "cell_type": "code",
   "execution_count": 55,
   "id": "04f4d915",
   "metadata": {},
   "outputs": [
    {
     "data": {
      "text/plain": [
       "[[array([395]), array([866])]]"
      ]
     },
     "execution_count": 55,
     "metadata": {},
     "output_type": "execute_result"
    }
   ],
   "source": []
  },
  {
   "cell_type": "code",
   "execution_count": 62,
   "id": "74226f88",
   "metadata": {},
   "outputs": [
    {
     "data": {
      "text/plain": [
       "(1,)"
      ]
     },
     "execution_count": 62,
     "metadata": {},
     "output_type": "execute_result"
    }
   ],
   "source": []
  },
  {
   "cell_type": "code",
   "execution_count": 70,
   "id": "9447da30",
   "metadata": {},
   "outputs": [
    {
     "data": {
      "text/plain": [
       "(20000,)"
      ]
     },
     "execution_count": 70,
     "metadata": {},
     "output_type": "execute_result"
    }
   ],
   "source": []
  },
  {
   "cell_type": "code",
   "execution_count": null,
   "id": "6ae6bfd8",
   "metadata": {},
   "outputs": [],
   "source": []
  }
 ],
 "metadata": {
  "kernelspec": {
   "display_name": "Python 3 (ipykernel)",
   "language": "python",
   "name": "python3"
  },
  "language_info": {
   "codemirror_mode": {
    "name": "ipython",
    "version": 3
   },
   "file_extension": ".py",
   "mimetype": "text/x-python",
   "name": "python",
   "nbconvert_exporter": "python",
   "pygments_lexer": "ipython3",
   "version": "3.8.4"
  }
 },
 "nbformat": 4,
 "nbformat_minor": 5
}
