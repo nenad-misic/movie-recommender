{
 "cells": [
  {
   "cell_type": "code",
   "execution_count": 73,
   "id": "e25eaa64",
   "metadata": {},
   "outputs": [],
   "source": [
    "import pandas as pd \n",
    "from surprise import Reader, Dataset, SVD, NormalPredictor, BaselineOnly, KNNBasic, NMF\n",
    "from surprise.model_selection import KFold\n",
    "from surprise.model_selection import cross_validate"
   ]
  },
  {
   "cell_type": "code",
   "execution_count": 74,
   "id": "3e78aae4",
   "metadata": {},
   "outputs": [],
   "source": [
    "movies = pd.read_csv('./movielens_dataset/u.item' , header = None , sep = \"|\" , encoding='latin-1')\n",
    "movies.columns = ['movie_id' , 'movie_title' , 'release_date' , 'video_release_date' ,\n",
    "             'IMDb_URL' , 'unknown' , 'Action' , 'Adventure' , 'Animation' ,\n",
    "             'Childrens' , 'Comedy' , 'Crime' , 'Documentary' , 'Drama' , 'Fantasy' ,\n",
    "             'Film_Noir' , 'Horror' , 'Musical' , 'Mystery' , 'Romance' , 'Sci_Fi' ,\n",
    "             'Thriller' , 'War' , 'Western']\n",
    "\n",
    "users = pd.read_csv('./movielens_dataset/u.user', header= None , sep = '|')\n",
    "users.columns = ['user_id' , 'age' , 'gender' , 'occupation' , 'zip_code']\n",
    "\n",
    "ratings = pd.read_csv('./movielens_dataset/u.data', header= None , sep = '\\t')\n",
    "ratings.columns = ['user_id' , 'movie_id' , 'rating' , 'timestamp']"
   ]
  },
  {
   "cell_type": "code",
   "execution_count": 75,
   "id": "1ce43270",
   "metadata": {},
   "outputs": [
    {
     "data": {
      "text/html": [
       "<div>\n",
       "<style scoped>\n",
       "    .dataframe tbody tr th:only-of-type {\n",
       "        vertical-align: middle;\n",
       "    }\n",
       "\n",
       "    .dataframe tbody tr th {\n",
       "        vertical-align: top;\n",
       "    }\n",
       "\n",
       "    .dataframe thead th {\n",
       "        text-align: right;\n",
       "    }\n",
       "</style>\n",
       "<table border=\"1\" class=\"dataframe\">\n",
       "  <thead>\n",
       "    <tr style=\"text-align: right;\">\n",
       "      <th></th>\n",
       "      <th>user_id</th>\n",
       "      <th>movie_id</th>\n",
       "      <th>rating</th>\n",
       "      <th>timestamp</th>\n",
       "      <th>age</th>\n",
       "      <th>gender</th>\n",
       "      <th>occupation</th>\n",
       "      <th>zip_code</th>\n",
       "      <th>movie_title</th>\n",
       "      <th>release_date</th>\n",
       "      <th>...</th>\n",
       "      <th>Fantasy</th>\n",
       "      <th>Film_Noir</th>\n",
       "      <th>Horror</th>\n",
       "      <th>Musical</th>\n",
       "      <th>Mystery</th>\n",
       "      <th>Romance</th>\n",
       "      <th>Sci_Fi</th>\n",
       "      <th>Thriller</th>\n",
       "      <th>War</th>\n",
       "      <th>Western</th>\n",
       "    </tr>\n",
       "  </thead>\n",
       "  <tbody>\n",
       "    <tr>\n",
       "      <th>0</th>\n",
       "      <td>196</td>\n",
       "      <td>242</td>\n",
       "      <td>3</td>\n",
       "      <td>881250949</td>\n",
       "      <td>49</td>\n",
       "      <td>M</td>\n",
       "      <td>writer</td>\n",
       "      <td>55105</td>\n",
       "      <td>Kolya (1996)</td>\n",
       "      <td>24-Jan-1997</td>\n",
       "      <td>...</td>\n",
       "      <td>0</td>\n",
       "      <td>0</td>\n",
       "      <td>0</td>\n",
       "      <td>0</td>\n",
       "      <td>0</td>\n",
       "      <td>0</td>\n",
       "      <td>0</td>\n",
       "      <td>0</td>\n",
       "      <td>0</td>\n",
       "      <td>0</td>\n",
       "    </tr>\n",
       "    <tr>\n",
       "      <th>1</th>\n",
       "      <td>305</td>\n",
       "      <td>242</td>\n",
       "      <td>5</td>\n",
       "      <td>886307828</td>\n",
       "      <td>23</td>\n",
       "      <td>M</td>\n",
       "      <td>programmer</td>\n",
       "      <td>94086</td>\n",
       "      <td>Kolya (1996)</td>\n",
       "      <td>24-Jan-1997</td>\n",
       "      <td>...</td>\n",
       "      <td>0</td>\n",
       "      <td>0</td>\n",
       "      <td>0</td>\n",
       "      <td>0</td>\n",
       "      <td>0</td>\n",
       "      <td>0</td>\n",
       "      <td>0</td>\n",
       "      <td>0</td>\n",
       "      <td>0</td>\n",
       "      <td>0</td>\n",
       "    </tr>\n",
       "    <tr>\n",
       "      <th>2</th>\n",
       "      <td>6</td>\n",
       "      <td>242</td>\n",
       "      <td>4</td>\n",
       "      <td>883268170</td>\n",
       "      <td>42</td>\n",
       "      <td>M</td>\n",
       "      <td>executive</td>\n",
       "      <td>98101</td>\n",
       "      <td>Kolya (1996)</td>\n",
       "      <td>24-Jan-1997</td>\n",
       "      <td>...</td>\n",
       "      <td>0</td>\n",
       "      <td>0</td>\n",
       "      <td>0</td>\n",
       "      <td>0</td>\n",
       "      <td>0</td>\n",
       "      <td>0</td>\n",
       "      <td>0</td>\n",
       "      <td>0</td>\n",
       "      <td>0</td>\n",
       "      <td>0</td>\n",
       "    </tr>\n",
       "  </tbody>\n",
       "</table>\n",
       "<p>3 rows × 31 columns</p>\n",
       "</div>"
      ],
      "text/plain": [
       "   user_id  movie_id  rating  timestamp  age gender  occupation zip_code  \\\n",
       "0      196       242       3  881250949   49      M      writer    55105   \n",
       "1      305       242       5  886307828   23      M  programmer    94086   \n",
       "2        6       242       4  883268170   42      M   executive    98101   \n",
       "\n",
       "    movie_title release_date  ...  Fantasy Film_Noir  Horror  Musical  \\\n",
       "0  Kolya (1996)  24-Jan-1997  ...        0         0       0        0   \n",
       "1  Kolya (1996)  24-Jan-1997  ...        0         0       0        0   \n",
       "2  Kolya (1996)  24-Jan-1997  ...        0         0       0        0   \n",
       "\n",
       "   Mystery  Romance  Sci_Fi  Thriller  War  Western  \n",
       "0        0        0       0         0    0        0  \n",
       "1        0        0       0         0    0        0  \n",
       "2        0        0       0         0    0        0  \n",
       "\n",
       "[3 rows x 31 columns]"
      ]
     },
     "execution_count": 75,
     "metadata": {},
     "output_type": "execute_result"
    }
   ],
   "source": [
    "data = ratings.merge(users , on='user_id')\n",
    "data = data.merge(movies , on='movie_id')\n",
    "data.head(3)"
   ]
  },
  {
   "cell_type": "code",
   "execution_count": 76,
   "id": "3a5fbf97",
   "metadata": {},
   "outputs": [
    {
     "data": {
      "text/plain": [
       "<generator object KFold.split at 0x00000197C455F200>"
      ]
     },
     "execution_count": 76,
     "metadata": {},
     "output_type": "execute_result"
    }
   ],
   "source": [
    "reader = Reader()\n",
    "dataset = Dataset.load_from_df(data[['user_id', 'movie_id', 'rating']], reader)\n",
    "kf = KFold(n_splits=5)\n",
    "kf.split(dataset)"
   ]
  },
  {
   "cell_type": "code",
   "execution_count": 77,
   "id": "63b566df",
   "metadata": {},
   "outputs": [
    {
     "name": "stdout",
     "output_type": "stream",
     "text": [
      "Evaluating RMSE, MAE of algorithm NormalPredictor on 5 split(s).\n",
      "\n",
      "                  Fold 1  Fold 2  Fold 3  Fold 4  Fold 5  Mean    Std     \n",
      "RMSE (testset)    1.5229  1.5284  1.5183  1.5156  1.5160  1.5202  0.0048  \n",
      "MAE (testset)     1.2215  1.2315  1.2164  1.2140  1.2180  1.2203  0.0061  \n",
      "Fit time          0.07    0.08    0.08    0.08    0.08    0.08    0.00    \n",
      "Test time         0.09    0.15    0.16    0.09    0.16    0.13    0.03    \n"
     ]
    },
    {
     "data": {
      "text/plain": [
       "{'test_rmse': array([1.52294606, 1.52838136, 1.51831713, 1.51556205, 1.51600808]),\n",
       " 'test_mae': array([1.22147844, 1.23149056, 1.21635419, 1.21399394, 1.21803712]),\n",
       " 'fit_time': (0.07198905944824219,\n",
       "  0.08100032806396484,\n",
       "  0.0820000171661377,\n",
       "  0.0819997787475586,\n",
       "  0.08299970626831055),\n",
       " 'test_time': (0.08801126480102539,\n",
       "  0.1510000228881836,\n",
       "  0.1550002098083496,\n",
       "  0.08800005912780762,\n",
       "  0.15600037574768066)}"
      ]
     },
     "execution_count": 77,
     "metadata": {},
     "output_type": "execute_result"
    }
   ],
   "source": [
    "algorithm = NormalPredictor()\n",
    "cross_validate(algorithm, dataset, measures=['RMSE', 'MAE'], cv=5, verbose=True)"
   ]
  },
  {
   "cell_type": "code",
   "execution_count": 78,
   "id": "6590b9eb",
   "metadata": {},
   "outputs": [
    {
     "name": "stdout",
     "output_type": "stream",
     "text": [
      "Evaluating RMSE, MAE of algorithm SVD on 5 split(s).\n",
      "\n",
      "                  Fold 1  Fold 2  Fold 3  Fold 4  Fold 5  Mean    Std     \n",
      "RMSE (testset)    0.9457  0.9354  0.9318  0.9290  0.9325  0.9349  0.0058  \n",
      "MAE (testset)     0.7465  0.7373  0.7323  0.7309  0.7348  0.7364  0.0055  \n",
      "Fit time          3.13    3.17    3.16    3.16    3.18    3.16    0.02    \n",
      "Test time         0.09    0.15    0.08    0.08    0.15    0.11    0.03    \n"
     ]
    },
    {
     "data": {
      "text/plain": [
       "{'test_rmse': array([0.94574893, 0.93540732, 0.93177185, 0.92904499, 0.93250049]),\n",
       " 'test_mae': array([0.74645151, 0.73733656, 0.73232702, 0.73091338, 0.73483156]),\n",
       " 'fit_time': (3.125091314315796,\n",
       "  3.1650233268737793,\n",
       "  3.1630706787109375,\n",
       "  3.1560001373291016,\n",
       "  3.1785430908203125),\n",
       " 'test_time': (0.08600068092346191,\n",
       "  0.1490004062652588,\n",
       "  0.08400106430053711,\n",
       "  0.08299994468688965,\n",
       "  0.1500236988067627)}"
      ]
     },
     "execution_count": 78,
     "metadata": {},
     "output_type": "execute_result"
    }
   ],
   "source": [
    "algorithm = SVD()\n",
    "cross_validate(algorithm, dataset, measures=['RMSE', 'MAE'], cv=5, verbose=True)"
   ]
  },
  {
   "cell_type": "code",
   "execution_count": 79,
   "id": "f12077f7",
   "metadata": {},
   "outputs": [
    {
     "name": "stdout",
     "output_type": "stream",
     "text": [
      "Computing the msd similarity matrix...\n",
      "Done computing similarity matrix.\n",
      "Computing the msd similarity matrix...\n",
      "Done computing similarity matrix.\n",
      "Computing the msd similarity matrix...\n",
      "Done computing similarity matrix.\n",
      "Computing the msd similarity matrix...\n",
      "Done computing similarity matrix.\n",
      "Computing the msd similarity matrix...\n",
      "Done computing similarity matrix.\n",
      "Evaluating RMSE, MAE of algorithm KNNBasic on 5 split(s).\n",
      "\n",
      "                  Fold 1  Fold 2  Fold 3  Fold 4  Fold 5  Mean    Std     \n",
      "RMSE (testset)    0.9804  0.9848  0.9775  0.9687  0.9690  0.9761  0.0063  \n",
      "MAE (testset)     0.7727  0.7786  0.7693  0.7630  0.7644  0.7696  0.0057  \n",
      "Fit time          0.29    0.30    0.29    0.30    0.30    0.30    0.01    \n",
      "Test time         1.51    1.53    1.61    1.53    1.59    1.55    0.04    \n"
     ]
    },
    {
     "data": {
      "text/plain": [
       "{'test_rmse': array([0.98042128, 0.98475247, 0.97749558, 0.96867891, 0.96902811]),\n",
       " 'test_mae': array([0.77271728, 0.77858831, 0.76928019, 0.76301643, 0.76435644]),\n",
       " 'fit_time': (0.2850229740142822,\n",
       "  0.29599785804748535,\n",
       "  0.29102230072021484,\n",
       "  0.30299997329711914,\n",
       "  0.30099987983703613),\n",
       " 'test_time': (1.5079994201660156,\n",
       "  1.5270822048187256,\n",
       "  1.6055645942687988,\n",
       "  1.5250000953674316,\n",
       "  1.5926175117492676)}"
      ]
     },
     "execution_count": 79,
     "metadata": {},
     "output_type": "execute_result"
    }
   ],
   "source": [
    "algorithm = KNNBasic(k=20)\n",
    "cross_validate(algorithm, dataset, measures=['RMSE', 'MAE'], cv=5, verbose=True)"
   ]
  },
  {
   "cell_type": "code",
   "execution_count": 80,
   "id": "87e17b5c",
   "metadata": {},
   "outputs": [
    {
     "name": "stdout",
     "output_type": "stream",
     "text": [
      "Computing the msd similarity matrix...\n",
      "Done computing similarity matrix.\n",
      "Computing the msd similarity matrix...\n",
      "Done computing similarity matrix.\n",
      "Computing the msd similarity matrix...\n",
      "Done computing similarity matrix.\n",
      "Computing the msd similarity matrix...\n",
      "Done computing similarity matrix.\n",
      "Computing the msd similarity matrix...\n",
      "Done computing similarity matrix.\n",
      "Evaluating RMSE, MAE of algorithm KNNBasic on 5 split(s).\n",
      "\n",
      "                  Fold 1  Fold 2  Fold 3  Fold 4  Fold 5  Mean    Std     \n",
      "RMSE (testset)    0.9816  0.9868  0.9787  0.9835  0.9826  0.9826  0.0026  \n",
      "MAE (testset)     0.7727  0.7803  0.7752  0.7739  0.7728  0.7750  0.0028  \n",
      "Fit time          0.45    0.44    0.44    0.44    0.44    0.44    0.00    \n",
      "Test time         1.90    1.85    1.93    1.84    1.93    1.89    0.04    \n"
     ]
    },
    {
     "data": {
      "text/plain": [
       "{'test_rmse': array([0.98160089, 0.98680028, 0.97866611, 0.98351078, 0.98256068]),\n",
       " 'test_mae': array([0.77271794, 0.78026861, 0.77516933, 0.77388929, 0.77276998]),\n",
       " 'fit_time': (0.44700026512145996,\n",
       "  0.4419999122619629,\n",
       "  0.4370005130767822,\n",
       "  0.44100069999694824,\n",
       "  0.4400005340576172),\n",
       " 'test_time': (1.8990130424499512,\n",
       "  1.8520228862762451,\n",
       "  1.9305610656738281,\n",
       "  1.8421080112457275,\n",
       "  1.9340109825134277)}"
      ]
     },
     "execution_count": 80,
     "metadata": {},
     "output_type": "execute_result"
    }
   ],
   "source": [
    "algorithm = KNNBasic(sim_options={'user_based': False} , k=20) # https://surprise.readthedocs.io/en/stable/prediction_algorithms.html#similarity-measure-configuration\n",
    "cross_validate(algorithm, dataset, measures=['RMSE', 'MAE'], cv=5, verbose=True)"
   ]
  },
  {
   "cell_type": "code",
   "execution_count": 81,
   "id": "e9a4e339",
   "metadata": {},
   "outputs": [
    {
     "name": "stdout",
     "output_type": "stream",
     "text": [
      "Evaluating RMSE, MAE of algorithm NMF on 5 split(s).\n",
      "\n",
      "                  Fold 1  Fold 2  Fold 3  Fold 4  Fold 5  Mean    Std     \n",
      "RMSE (testset)    0.9669  0.9694  0.9717  0.9522  0.9611  0.9642  0.0070  \n",
      "MAE (testset)     0.7602  0.7643  0.7632  0.7474  0.7551  0.7580  0.0062  \n",
      "Fit time          3.66    3.69    3.74    3.66    3.69    3.69    0.03    \n",
      "Test time         0.07    0.07    0.14    0.14    0.07    0.10    0.03    \n"
     ]
    },
    {
     "data": {
      "text/plain": [
       "{'test_rmse': array([0.96688685, 0.9693849 , 0.97168073, 0.9522049 , 0.96106785]),\n",
       " 'test_mae': array([0.76015394, 0.76433808, 0.76323788, 0.74736406, 0.75514833]),\n",
       " 'fit_time': (3.655035972595215,\n",
       "  3.6861138343811035,\n",
       "  3.7422823905944824,\n",
       "  3.6611011028289795,\n",
       "  3.686162233352661),\n",
       " 'test_time': (0.07300043106079102,\n",
       "  0.07402396202087402,\n",
       "  0.13899970054626465,\n",
       "  0.14100027084350586,\n",
       "  0.07300019264221191)}"
      ]
     },
     "execution_count": 81,
     "metadata": {},
     "output_type": "execute_result"
    }
   ],
   "source": [
    "algorithm = NMF()\n",
    "cross_validate(algorithm, dataset, measures=['RMSE', 'MAE'], cv=5, verbose=True)"
   ]
  },
  {
   "cell_type": "code",
   "execution_count": 82,
   "id": "0bae813c",
   "metadata": {},
   "outputs": [
    {
     "data": {
      "text/plain": [
       "<surprise.prediction_algorithms.matrix_factorization.SVD at 0x197c4543ac0>"
      ]
     },
     "execution_count": 82,
     "metadata": {},
     "output_type": "execute_result"
    }
   ],
   "source": [
    "trainset = dataset.build_full_trainset()\n",
    "algorithm = SVD(n_factors = 200 , lr_all = 0.005 , reg_all = 0.02 , n_epochs = 40 , init_std_dev = 0.05)\n",
    "algorithm.fit(trainset)"
   ]
  },
  {
   "cell_type": "code",
   "execution_count": 85,
   "id": "6e08f155",
   "metadata": {},
   "outputs": [],
   "source": [
    "def get_recommendations(uid = None , iid = None):\n",
    "    predictions = []\n",
    "    if uid is None:\n",
    "        for ui in trainset.all_users():\n",
    "            predictions.append(algorithm.predict(ui, iid, verbose = False))\n",
    "        return predictions\n",
    "    \n",
    "    if iid is None:\n",
    "        for ii in trainset.all_items():\n",
    "            ii = trainset.to_raw_iid(ii)\n",
    "            predictions.append(algorithm.predict(uid, ii, verbose = False))\n",
    "        return predictions\n",
    "    return predictins.append(algorithm.predict(uid,iid,verbose = False))"
   ]
  },
  {
   "cell_type": "code",
   "execution_count": 88,
   "id": "114a7470",
   "metadata": {},
   "outputs": [
    {
     "name": "stdout",
     "output_type": "stream",
     "text": [
      "Movie -> 1512 with Score-> 5\n",
      "Movie -> 867 with Score-> 5\n",
      "Movie -> 1642 with Score-> 5\n",
      "Movie -> 1643 with Score-> 5\n",
      "Movie -> 119 with Score-> 4.994810648641642\n",
      "Movie -> 408 with Score-> 4.9430236942390025\n",
      "Movie -> 1064 with Score-> 4.9234805204586385\n",
      "Movie -> 1398 with Score-> 4.849279971660167\n",
      "Movie -> 1131 with Score-> 4.788783114825057\n",
      "Movie -> 963 with Score-> 4.78555261336351\n",
      "Movie -> 1175 with Score-> 4.776576037845915\n",
      "Movie -> 1293 with Score-> 4.76076284400158\n",
      "Movie -> 1449 with Score-> 4.753636104981325\n",
      "Movie -> 958 with Score-> 4.740100003292113\n",
      "Movie -> 1499 with Score-> 4.730037201924717\n",
      "Movie -> 302 with Score-> 4.681102957873973\n",
      "Movie -> 1203 with Score-> 4.675639510946902\n",
      "Movie -> 427 with Score-> 4.620665099599474\n",
      "Movie -> 113 with Score-> 4.615095842377263\n",
      "Movie -> 357 with Score-> 4.610855988958445\n",
      "Movie -> 1500 with Score-> 4.609063710136722\n",
      "Movie -> 1592 with Score-> 4.596531732891613\n",
      "Movie -> 626 with Score-> 4.58274552443589\n",
      "Movie -> 251 with Score-> 4.572792415705387\n",
      "Movie -> 838 with Score-> 4.572718337327168\n",
      "Movie -> 114 with Score-> 4.572489964982294\n",
      "Movie -> 923 with Score-> 4.555888816010721\n",
      "Movie -> 1536 with Score-> 4.552555673844289\n",
      "Movie -> 169 with Score-> 4.552034086221403\n",
      "Movie -> 480 with Score-> 4.549199061571127\n",
      "Movie -> 223 with Score-> 4.548817006553066\n",
      "Movie -> 648 with Score-> 4.540022933011908\n",
      "Movie -> 647 with Score-> 4.539486096741008\n",
      "Movie -> 1194 with Score-> 4.528558603029645\n",
      "Movie -> 657 with Score-> 4.525966609696098\n",
      "Movie -> 705 with Score-> 4.525277170634493\n",
      "Movie -> 316 with Score-> 4.524491657361551\n",
      "Movie -> 1651 with Score-> 4.521123311611493\n",
      "Movie -> 850 with Score-> 4.521053168027486\n",
      "Movie -> 190 with Score-> 4.518812818463249\n",
      "Movie -> 1367 with Score-> 4.516778291427073\n",
      "Movie -> 474 with Score-> 4.5095531669955395\n",
      "Movie -> 513 with Score-> 4.508512987210349\n",
      "Movie -> 1467 with Score-> 4.503635190366787\n",
      "Movie -> 483 with Score-> 4.502410367684244\n",
      "Movie -> 603 with Score-> 4.502248879136841\n",
      "Movie -> 317 with Score-> 4.50154764934952\n",
      "Movie -> 64 with Score-> 4.4999865467892075\n",
      "Movie -> 48 with Score-> 4.49976763389518\n",
      "Movie -> 709 with Score-> 4.495152176933275\n"
     ]
    }
   ],
   "source": [
    "predictions = get_recommendations(uid = 1)\n",
    "predictions.sort(key=lambda x: x.est, reverse=True)\n",
    "for pred in predictions[:50]:\n",
    "    print('Movie -> {} with Score-> {}'.format(pred.iid , pred.est))"
   ]
  },
  {
   "cell_type": "code",
   "execution_count": null,
   "id": "292fafd9",
   "metadata": {},
   "outputs": [],
   "source": []
  },
  {
   "cell_type": "code",
   "execution_count": null,
   "id": "b0d9b416",
   "metadata": {},
   "outputs": [],
   "source": []
  }
 ],
 "metadata": {
  "kernelspec": {
   "display_name": "Python 3 (ipykernel)",
   "language": "python",
   "name": "python3"
  },
  "language_info": {
   "codemirror_mode": {
    "name": "ipython",
    "version": 3
   },
   "file_extension": ".py",
   "mimetype": "text/x-python",
   "name": "python",
   "nbconvert_exporter": "python",
   "pygments_lexer": "ipython3",
   "version": "3.8.4"
  }
 },
 "nbformat": 4,
 "nbformat_minor": 5
}
