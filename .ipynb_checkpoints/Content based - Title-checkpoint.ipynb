{
 "cells": [
  {
   "cell_type": "code",
   "execution_count": 3,
   "id": "07b3207b",
   "metadata": {},
   "outputs": [],
   "source": [
    "import pandas as pd \n",
    "from ast import literal_eval\n",
    "\n",
    "from sklearn.feature_extraction.text import TfidfVectorizer\n",
    "from sklearn.metrics.pairwise import linear_kernel"
   ]
  },
  {
   "cell_type": "code",
   "execution_count": 4,
   "id": "8a07ef19",
   "metadata": {},
   "outputs": [],
   "source": [
    "\n",
    "movies = pd.read_csv('./movielens_dataset/u.item' , header = None , sep = \"|\" , encoding='latin-1')\n",
    "movies.columns = ['movie_id' , 'movie_title' , 'release_date' , 'video_release_date' ,\n",
    "             'IMDb_URL' , 'unknown' , 'Action' , 'Adventure' , 'Animation' ,\n",
    "             'Childrens' , 'Comedy' , 'Crime' , 'Documentary' , 'Drama' , 'Fantasy' ,\n",
    "             'Film_Noir' , 'Horror' , 'Musical' , 'Mystery' , 'Romance' , 'Sci_Fi' ,\n",
    "             'Thriller' , 'War' , 'Western']\n",
    "\n",
    "users = pd.read_csv('./movielens_dataset/u.user', header= None , sep = '|')\n",
    "users.columns = ['user_id' , 'age' , 'gender' , 'occupation' , 'zip_code']\n",
    "\n",
    "ratings = pd.read_csv('./movielens_dataset/u.data', header= None , sep = '\\t')\n",
    "ratings.columns = ['user_id' , 'movie_id' , 'rating' , 'timestamp']\n"
   ]
  },
  {
   "cell_type": "code",
   "execution_count": 5,
   "id": "698ce3e2",
   "metadata": {},
   "outputs": [
    {
     "ename": "NameError",
     "evalue": "name 'dataset' is not defined",
     "output_type": "error",
     "traceback": [
      "\u001b[1;31m---------------------------------------------------------------------------\u001b[0m",
      "\u001b[1;31mNameError\u001b[0m                                 Traceback (most recent call last)",
      "\u001b[1;32mC:\\Users\\NENADM~1\\AppData\\Local\\Temp/ipykernel_9768/2197762795.py\u001b[0m in \u001b[0;36m<module>\u001b[1;34m\u001b[0m\n\u001b[0;32m      1\u001b[0m \u001b[0mdata\u001b[0m \u001b[1;33m=\u001b[0m \u001b[0mratings\u001b[0m\u001b[1;33m.\u001b[0m\u001b[0mmerge\u001b[0m\u001b[1;33m(\u001b[0m\u001b[0musers\u001b[0m \u001b[1;33m,\u001b[0m \u001b[0mon\u001b[0m\u001b[1;33m=\u001b[0m\u001b[1;34m'user_id'\u001b[0m\u001b[1;33m)\u001b[0m\u001b[1;33m\u001b[0m\u001b[1;33m\u001b[0m\u001b[0m\n\u001b[1;32m----> 2\u001b[1;33m \u001b[0mdata\u001b[0m \u001b[1;33m=\u001b[0m \u001b[0mdataset\u001b[0m\u001b[1;33m.\u001b[0m\u001b[0mmerge\u001b[0m\u001b[1;33m(\u001b[0m\u001b[0mmovies\u001b[0m \u001b[1;33m,\u001b[0m \u001b[0mon\u001b[0m\u001b[1;33m=\u001b[0m\u001b[1;34m'movie_id'\u001b[0m\u001b[1;33m)\u001b[0m\u001b[1;33m\u001b[0m\u001b[1;33m\u001b[0m\u001b[0m\n\u001b[0m\u001b[0;32m      3\u001b[0m \u001b[0mdata\u001b[0m\u001b[1;33m.\u001b[0m\u001b[0mhead\u001b[0m\u001b[1;33m(\u001b[0m\u001b[1;36m5\u001b[0m\u001b[1;33m)\u001b[0m\u001b[1;33m\u001b[0m\u001b[1;33m\u001b[0m\u001b[0m\n",
      "\u001b[1;31mNameError\u001b[0m: name 'dataset' is not defined"
     ]
    }
   ],
   "source": [
    "data = ratings.merge(users , on='user_id')\n",
    "data = data.merge(movies , on='movie_id')\n",
    "data.head(5)"
   ]
  },
  {
   "cell_type": "code",
   "execution_count": 103,
   "id": "76810f21",
   "metadata": {},
   "outputs": [],
   "source": [
    "overviews = dataset['overview']\n",
    "tfidf_overviews = TfidfVectorizer(stop_words = 'english' , max_df = 4 , min_df= 1)\n",
    "overviews = overviews.fillna('')\n",
    "tfidf_overviews_matrix = tfidf_overviews.fit_transform(overviews)"
   ]
  },
  {
   "cell_type": "code",
   "execution_count": 104,
   "id": "09906748",
   "metadata": {},
   "outputs": [],
   "source": [
    "cos_similar = linear_kernel(tfidf_overviews_matrix , tfidf_overviews_matrix)"
   ]
  },
  {
   "cell_type": "code",
   "execution_count": 105,
   "id": "028fb1fb",
   "metadata": {},
   "outputs": [],
   "source": [
    "title_to_id = pd.Series(dataset.index , index=dataset['title'])"
   ]
  },
  {
   "cell_type": "code",
   "execution_count": 106,
   "id": "2eb24952",
   "metadata": {},
   "outputs": [],
   "source": [
    "def get_similar_movies(title):\n",
    "    given_id = title_to_id[title]\n",
    "    all_similar = list(enumerate(cos_similar[given_id]))\n",
    "    all_similar = sorted(all_similar , key = lambda x: x[1] , reverse = True)\n",
    "    most_similar = [movie for movie in all_similar if movie[1] > 0][:10]\n",
    "    return movies['title'].iloc[[i[0] for i in most_similar]]"
   ]
  },
  {
   "cell_type": "code",
   "execution_count": 107,
   "id": "135be346",
   "metadata": {},
   "outputs": [
    {
     "data": {
      "text/plain": [
       "3232                                Pulp Fiction\n",
       "3526                                   The Sting\n",
       "3194                              All or Nothing\n",
       "192                                    Australia\n",
       "858                          Muppets Most Wanted\n",
       "3682                      Let's Kill Ward's Wife\n",
       "569     The SpongeBob Movie: Sponge Out of Water\n",
       "4624                                   Locker 13\n",
       "Name: title, dtype: object"
      ]
     },
     "execution_count": 107,
     "metadata": {},
     "output_type": "execute_result"
    }
   ],
   "source": [
    "get_similar_movies('Pulp Fiction')"
   ]
  },
  {
   "cell_type": "code",
   "execution_count": null,
   "id": "dfeff2f1",
   "metadata": {},
   "outputs": [],
   "source": []
  },
  {
   "cell_type": "code",
   "execution_count": null,
   "id": "11e90c57",
   "metadata": {},
   "outputs": [],
   "source": []
  }
 ],
 "metadata": {
  "kernelspec": {
   "display_name": "Python 3 (ipykernel)",
   "language": "python",
   "name": "python3"
  },
  "language_info": {
   "codemirror_mode": {
    "name": "ipython",
    "version": 3
   },
   "file_extension": ".py",
   "mimetype": "text/x-python",
   "name": "python",
   "nbconvert_exporter": "python",
   "pygments_lexer": "ipython3",
   "version": "3.8.4"
  }
 },
 "nbformat": 4,
 "nbformat_minor": 5
}
