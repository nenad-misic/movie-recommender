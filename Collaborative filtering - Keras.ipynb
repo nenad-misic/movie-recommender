{
 "cells": [
  {
   "cell_type": "code",
   "execution_count": 88,
   "id": "0003282b",
   "metadata": {},
   "outputs": [],
   "source": [
    "import os\n",
    "os.environ['TF_CPP_MIN_LOG_LEVEL'] = '2'"
   ]
  },
  {
   "cell_type": "code",
   "execution_count": 89,
   "id": "d846d244",
   "metadata": {},
   "outputs": [],
   "source": [
    "import numpy as np\n",
    "import pandas as pd\n",
    "import matplotlib.pyplot as plt\n",
    "from sklearn.model_selection import train_test_split\n",
    "from keras.models import Sequential\n",
    "from keras.callbacks import ReduceLROnPlateau, EarlyStopping\n",
    "from keras.layers import  Input, dot, concatenate\n",
    "from keras.models import Model\n",
    "from IPython.display import SVG\n",
    "from keras.utils.vis_utils import model_to_dot\n",
    "from keras.layers import Activation, Dense, Dropout, Embedding, Flatten, Conv1D, MaxPooling1D, LSTM"
   ]
  },
  {
   "cell_type": "code",
   "execution_count": 90,
   "id": "9388e588",
   "metadata": {},
   "outputs": [],
   "source": [
    "movies = pd.read_csv('./movielens_dataset/u.item' , header = None , sep = \"|\" , encoding='latin-1')\n",
    "movies.columns = ['movie_id' , 'movie_title' , 'release_date' , 'video_release_date' ,\n",
    "             'IMDb_URL' , 'unknown' , 'Action' , 'Adventure' , 'Animation' ,\n",
    "             'Childrens' , 'Comedy' , 'Crime' , 'Documentary' , 'Drama' , 'Fantasy' ,\n",
    "             'Film_Noir' , 'Horror' , 'Musical' , 'Mystery' , 'Romance' , 'Sci_Fi' ,\n",
    "             'Thriller' , 'War' , 'Western']\n",
    "\n",
    "users = pd.read_csv('./movielens_dataset/u.user', header= None , sep = '|')\n",
    "users.columns = ['user_id' , 'age' , 'gender' , 'occupation' , 'zip_code']\n",
    "\n",
    "ratings = pd.read_csv('./movielens_dataset/u.data', header= None , sep = '\\t')\n",
    "ratings.columns = ['user_id' , 'movie_id' , 'rating' , 'timestamp']"
   ]
  },
  {
   "cell_type": "code",
   "execution_count": 91,
   "id": "fed24a8e",
   "metadata": {},
   "outputs": [],
   "source": [
    "data = ratings.merge(users , on='user_id')\n",
    "data = data.merge(movies , on='movie_id')"
   ]
  },
  {
   "cell_type": "code",
   "execution_count": 92,
   "id": "9da52512",
   "metadata": {},
   "outputs": [],
   "source": [
    "data = data.sample(frac = 1)\n",
    "data_train_x = np.array(data[['user_id' , 'movie_id']].values)\n",
    "data_train_y = np.array(data['rating'].values)\n",
    "x_train, x_test, y_train, y_test = train_test_split(data_train_x, data_train_y, test_size = 0.2, random_state = 98)\n",
    "n_factors = 50\n",
    "n_users = len(np.unique(data['user_id']))\n",
    "n_movies = len(np.unique(data['movie_id']))"
   ]
  },
  {
   "cell_type": "code",
   "execution_count": 93,
   "id": "f4739eb5",
   "metadata": {},
   "outputs": [],
   "source": [
    "user_input = Input(shape=(1,))\n",
    "user_embeddings = Embedding(input_dim = n_users+1, output_dim=n_factors, input_length=1)(user_input)\n",
    "user_vector = Flatten()(user_embeddings)\n",
    "\n",
    "movie_input = Input(shape = (1,))\n",
    "movie_embeddings = Embedding(input_dim = n_movies+1 , output_dim = n_factors , input_length = 1)(movie_input)\n",
    "movie_vector = Flatten()(movie_embeddings)\n",
    "\n",
    "merged_vectors = concatenate([user_vector, movie_vector])\n",
    "dense_layer_1 = Dense(100 , activation = 'relu')(merged_vectors)\n",
    "dense_layer_3 = Dropout(.5)(dense_layer_1)\n",
    "dense_layer_2 = Dense(1)(dense_layer_3)\n",
    "model = Model([user_input, movie_input], dense_layer_2)"
   ]
  },
  {
   "cell_type": "code",
   "execution_count": 94,
   "id": "e7f1a139",
   "metadata": {},
   "outputs": [
    {
     "name": "stdout",
     "output_type": "stream",
     "text": [
      "Model: \"model_2\"\n",
      "__________________________________________________________________________________________________\n",
      "Layer (type)                    Output Shape         Param #     Connected to                     \n",
      "==================================================================================================\n",
      "input_5 (InputLayer)            [(None, 1)]          0                                            \n",
      "__________________________________________________________________________________________________\n",
      "input_6 (InputLayer)            [(None, 1)]          0                                            \n",
      "__________________________________________________________________________________________________\n",
      "embedding_4 (Embedding)         (None, 1, 50)        47200       input_5[0][0]                    \n",
      "__________________________________________________________________________________________________\n",
      "embedding_5 (Embedding)         (None, 1, 50)        84150       input_6[0][0]                    \n",
      "__________________________________________________________________________________________________\n",
      "flatten_4 (Flatten)             (None, 50)           0           embedding_4[0][0]                \n",
      "__________________________________________________________________________________________________\n",
      "flatten_5 (Flatten)             (None, 50)           0           embedding_5[0][0]                \n",
      "__________________________________________________________________________________________________\n",
      "concatenate_2 (Concatenate)     (None, 100)          0           flatten_4[0][0]                  \n",
      "                                                                 flatten_5[0][0]                  \n",
      "__________________________________________________________________________________________________\n",
      "dense_4 (Dense)                 (None, 100)          10100       concatenate_2[0][0]              \n",
      "__________________________________________________________________________________________________\n",
      "dropout_2 (Dropout)             (None, 100)          0           dense_4[0][0]                    \n",
      "__________________________________________________________________________________________________\n",
      "dense_5 (Dense)                 (None, 1)            101         dropout_2[0][0]                  \n",
      "==================================================================================================\n",
      "Total params: 141,551\n",
      "Trainable params: 141,551\n",
      "Non-trainable params: 0\n",
      "__________________________________________________________________________________________________\n"
     ]
    }
   ],
   "source": [
    "model.compile(loss='mean_squared_error', optimizer='adam' ,metrics = ['accuracy'] )\n",
    "model.summary()"
   ]
  },
  {
   "cell_type": "code",
   "execution_count": 95,
   "id": "34858077",
   "metadata": {},
   "outputs": [
    {
     "name": "stdout",
     "output_type": "stream",
     "text": [
      "Epoch 1/20\n",
      "625/625 [==============================] - 2s 2ms/step - loss: 2.1399 - accuracy: 0.0572 - val_loss: 0.9566 - val_accuracy: 0.0618\n",
      "Epoch 2/20\n",
      "625/625 [==============================] - 1s 2ms/step - loss: 1.1152 - accuracy: 0.0607 - val_loss: 0.9223 - val_accuracy: 0.0619\n",
      "Epoch 3/20\n",
      "625/625 [==============================] - 2s 2ms/step - loss: 1.0739 - accuracy: 0.0608 - val_loss: 0.9318 - val_accuracy: 0.0619\n",
      "Epoch 4/20\n",
      "625/625 [==============================] - 2s 3ms/step - loss: 1.0567 - accuracy: 0.0609 - val_loss: 0.9136 - val_accuracy: 0.0619\n",
      "Epoch 5/20\n",
      "625/625 [==============================] - 2s 3ms/step - loss: 1.0333 - accuracy: 0.0609 - val_loss: 0.9084 - val_accuracy: 0.0619\n",
      "Epoch 6/20\n",
      "625/625 [==============================] - 1s 2ms/step - loss: 1.0125 - accuracy: 0.0609 - val_loss: 0.9021 - val_accuracy: 0.0619\n",
      "Epoch 7/20\n",
      "625/625 [==============================] - 2s 3ms/step - loss: 0.9944 - accuracy: 0.0608 - val_loss: 0.8984 - val_accuracy: 0.0619\n",
      "Epoch 8/20\n",
      "625/625 [==============================] - 1s 2ms/step - loss: 0.9642 - accuracy: 0.0607 - val_loss: 0.8964 - val_accuracy: 0.0619\n",
      "Epoch 9/20\n",
      "625/625 [==============================] - 2s 3ms/step - loss: 0.9372 - accuracy: 0.0606 - val_loss: 0.8870 - val_accuracy: 0.0619\n",
      "Epoch 10/20\n",
      "625/625 [==============================] - 2s 2ms/step - loss: 0.9185 - accuracy: 0.0605 - val_loss: 0.8828 - val_accuracy: 0.0619\n",
      "Epoch 11/20\n",
      "625/625 [==============================] - 1s 2ms/step - loss: 0.8965 - accuracy: 0.0605 - val_loss: 0.8821 - val_accuracy: 0.0617\n",
      "Epoch 12/20\n",
      "625/625 [==============================] - 1s 2ms/step - loss: 0.8725 - accuracy: 0.0604 - val_loss: 0.8821 - val_accuracy: 0.0619\n",
      "Epoch 13/20\n",
      "625/625 [==============================] - 2s 3ms/step - loss: 0.8564 - accuracy: 0.0601 - val_loss: 0.8765 - val_accuracy: 0.0617\n",
      "Epoch 14/20\n",
      "625/625 [==============================] - 2s 3ms/step - loss: 0.8438 - accuracy: 0.0597 - val_loss: 0.8783 - val_accuracy: 0.0615\n",
      "Epoch 15/20\n",
      "625/625 [==============================] - 2s 3ms/step - loss: 0.8286 - accuracy: 0.0597 - val_loss: 0.8722 - val_accuracy: 0.0615\n",
      "Epoch 16/20\n",
      "625/625 [==============================] - 2s 3ms/step - loss: 0.8163 - accuracy: 0.0596 - val_loss: 0.8737 - val_accuracy: 0.0614\n",
      "Epoch 17/20\n",
      "625/625 [==============================] - 2s 2ms/step - loss: 0.8055 - accuracy: 0.0593 - val_loss: 0.8678 - val_accuracy: 0.0613\n",
      "Epoch 18/20\n",
      "625/625 [==============================] - 2s 3ms/step - loss: 0.7934 - accuracy: 0.0592 - val_loss: 0.8701 - val_accuracy: 0.0615\n",
      "Epoch 19/20\n",
      "625/625 [==============================] - 2s 2ms/step - loss: 0.7844 - accuracy: 0.0592 - val_loss: 0.8650 - val_accuracy: 0.0612\n",
      "Epoch 20/20\n",
      "625/625 [==============================] - 2s 2ms/step - loss: 0.7732 - accuracy: 0.0591 - val_loss: 0.8630 - val_accuracy: 0.0613\n"
     ]
    }
   ],
   "source": [
    "history = model.fit(\n",
    "    x = [x_train[:,0] , x_train[:,1]] , \n",
    "    y =y_train , batch_size = 128 , \n",
    "    epochs = 20 , \n",
    "    validation_data = ([x_test[:,0] , x_test[:,1]] , y_test)\n",
    ")"
   ]
  },
  {
   "cell_type": "code",
   "execution_count": 38,
   "id": "b75620e4",
   "metadata": {},
   "outputs": [],
   "source": [
    "loss , val_loss , accuracy , val_accuracy = history.history['loss'],history.history['val_loss'],history.history['accuracy'],history.history['val_accuracy']"
   ]
  },
  {
   "cell_type": "code",
   "execution_count": 26,
   "id": "7f6ccff6",
   "metadata": {},
   "outputs": [
    {
     "ename": "NameError",
     "evalue": "name 'loss' is not defined",
     "output_type": "error",
     "traceback": [
      "\u001b[0;31m---------------------------------------------------------------------------\u001b[0m",
      "\u001b[0;31mNameError\u001b[0m                                 Traceback (most recent call last)",
      "\u001b[0;32m/tmp/ipykernel_22500/4270748793.py\u001b[0m in \u001b[0;36m<module>\u001b[0;34m\u001b[0m\n\u001b[1;32m      1\u001b[0m \u001b[0mplt\u001b[0m\u001b[0;34m.\u001b[0m\u001b[0mfigure\u001b[0m\u001b[0;34m(\u001b[0m\u001b[0mfigsize\u001b[0m \u001b[0;34m=\u001b[0m \u001b[0;34m(\u001b[0m\u001b[0;36m12\u001b[0m\u001b[0;34m,\u001b[0m\u001b[0;36m10\u001b[0m\u001b[0;34m)\u001b[0m\u001b[0;34m)\u001b[0m\u001b[0;34m\u001b[0m\u001b[0;34m\u001b[0m\u001b[0m\n\u001b[0;32m----> 2\u001b[0;31m \u001b[0mplt\u001b[0m\u001b[0;34m.\u001b[0m\u001b[0mplot\u001b[0m\u001b[0;34m(\u001b[0m \u001b[0mloss\u001b[0m\u001b[0;34m,\u001b[0m \u001b[0;34m'r--'\u001b[0m\u001b[0;34m)\u001b[0m\u001b[0;34m\u001b[0m\u001b[0;34m\u001b[0m\u001b[0m\n\u001b[0m\u001b[1;32m      3\u001b[0m \u001b[0mplt\u001b[0m\u001b[0;34m.\u001b[0m\u001b[0mplot\u001b[0m\u001b[0;34m(\u001b[0m\u001b[0mval_loss\u001b[0m\u001b[0;34m,\u001b[0m \u001b[0;34m'b-'\u001b[0m\u001b[0;34m)\u001b[0m\u001b[0;34m\u001b[0m\u001b[0;34m\u001b[0m\u001b[0m\n\u001b[1;32m      4\u001b[0m \u001b[0mplt\u001b[0m\u001b[0;34m.\u001b[0m\u001b[0mplot\u001b[0m\u001b[0;34m(\u001b[0m \u001b[0maccuracy\u001b[0m\u001b[0;34m,\u001b[0m \u001b[0;34m'g--'\u001b[0m\u001b[0;34m)\u001b[0m\u001b[0;34m\u001b[0m\u001b[0;34m\u001b[0m\u001b[0m\n\u001b[1;32m      5\u001b[0m \u001b[0mplt\u001b[0m\u001b[0;34m.\u001b[0m\u001b[0mplot\u001b[0m\u001b[0;34m(\u001b[0m\u001b[0mval_accuracy\u001b[0m\u001b[0;34m,\u001b[0m\u001b[0;34m'-'\u001b[0m\u001b[0;34m)\u001b[0m\u001b[0;34m\u001b[0m\u001b[0;34m\u001b[0m\u001b[0m\n",
      "\u001b[0;31mNameError\u001b[0m: name 'loss' is not defined"
     ]
    },
    {
     "data": {
      "text/plain": [
       "<Figure size 864x720 with 0 Axes>"
      ]
     },
     "metadata": {},
     "output_type": "display_data"
    }
   ],
   "source": [
    "plt.figure(figsize = (12,10))\n",
    "plt.plot( loss, 'r--')\n",
    "plt.plot(val_loss, 'b-')\n",
    "plt.plot( accuracy, 'g--')\n",
    "plt.plot(val_accuracy,'-')\n",
    "plt.legend(['Training Loss', 'Validation Loss' , 'Training Accuracy' , 'Validation Accuracy'])\n",
    "plt.xlabel('Epoch')\n",
    "plt.ylabel('Loss')\n",
    "plt.show()"
   ]
  },
  {
   "cell_type": "code",
   "execution_count": 13,
   "id": "a50ac6c8",
   "metadata": {},
   "outputs": [
    {
     "name": "stdout",
     "output_type": "stream",
     "text": [
      "625/625 [==============================] - 1s 1ms/step - loss: 0.8665 - accuracy: 0.0646\n",
      "[0.93088483 0.2541653 ]\n"
     ]
    }
   ],
   "source": [
    "score = model.evaluate([x_test[:,0], x_test[:,1]], y_test)\n",
    "print(np.sqrt(score))"
   ]
  },
  {
   "cell_type": "code",
   "execution_count": 87,
   "id": "85075da4",
   "metadata": {},
   "outputs": [
    {
     "data": {
      "text/plain": [
       "array([1599, 1536, 1467, ..., 1502, 1494, 1486])"
      ]
     },
     "execution_count": 87,
     "metadata": {},
     "output_type": "execute_result"
    }
   ],
   "source": [
    "movie_ids = data_train_x[:,1]\n",
    "predictions = list(enumerate(model.predict([[np.asarray([395]*len(data_train_x)), data_train_x[:,1]]]).flatten().tolist()))\n",
    "predictions = sorted(predictions , key = lambda x: x[1] , reverse = True)\n",
    "data_train_x[:,1][[i[0] for i in predictions]]\n"
   ]
  },
  {
   "cell_type": "code",
   "execution_count": 272,
   "id": "b3b38496",
   "metadata": {},
   "outputs": [],
   "source": [
    "keras_similar = data_train_x[:,1][[i[0] for i in predictions]][:20]"
   ]
  },
  {
   "cell_type": "code",
   "execution_count": 273,
   "id": "b085b4bb",
   "metadata": {},
   "outputs": [
    {
     "data": {
      "text/plain": [
       "array([ 286, 1473,  649,  244,  211,  673,  366,  118,  460,  815,  263,\n",
       "        425,  116, 1048,   95,  657,  588,  752,  662,  570])"
      ]
     },
     "execution_count": 273,
     "metadata": {},
     "output_type": "execute_result"
    }
   ],
   "source": [
    "keras_similar"
   ]
  },
  {
   "cell_type": "code",
   "execution_count": 274,
   "id": "3ce5915a",
   "metadata": {},
   "outputs": [
    {
     "data": {
      "text/plain": [
       "['English Patient, The (1996)',\n",
       " 'Little Princess, The (1939)',\n",
       " 'Once Upon a Time in America (1984)',\n",
       " \"Smilla's Sense of Snow (1997)\",\n",
       " 'M*A*S*H (1970)',\n",
       " 'Cape Fear (1962)',\n",
       " 'Dangerous Minds (1995)',\n",
       " 'Twister (1996)',\n",
       " 'Crossing Guard, The (1995)',\n",
       " 'One Fine Day (1996)',\n",
       " 'Steel (1997)',\n",
       " 'Bob Roberts (1992)',\n",
       " 'Cold Comfort Farm (1995)',\n",
       " \"She's the One (1996)\",\n",
       " 'Aladdin (1992)',\n",
       " 'Manchurian Candidate, The (1962)',\n",
       " 'Beauty and the Beast (1991)',\n",
       " 'Replacement Killers, The (1998)',\n",
       " 'Somewhere in Time (1980)',\n",
       " 'Wyatt Earp (1994)']"
      ]
     },
     "execution_count": 274,
     "metadata": {},
     "output_type": "execute_result"
    }
   ],
   "source": [
    "[movies[movies['movie_id'] == e]['movie_title'].to_numpy()[0] for e in keras_similar]"
   ]
  },
  {
   "cell_type": "code",
   "execution_count": null,
   "id": "17a84078",
   "metadata": {},
   "outputs": [],
   "source": []
  }
 ],
 "metadata": {
  "kernelspec": {
   "display_name": "Python 3 (ipykernel)",
   "language": "python",
   "name": "python3"
  },
  "language_info": {
   "codemirror_mode": {
    "name": "ipython",
    "version": 3
   },
   "file_extension": ".py",
   "mimetype": "text/x-python",
   "name": "python",
   "nbconvert_exporter": "python",
   "pygments_lexer": "ipython3",
   "version": "3.8.4"
  }
 },
 "nbformat": 4,
 "nbformat_minor": 5
}
