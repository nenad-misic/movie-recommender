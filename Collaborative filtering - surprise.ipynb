{
 "cells": [
  {
   "cell_type": "code",
   "execution_count": 3,
   "id": "e25eaa64",
   "metadata": {},
   "outputs": [],
   "source": [
    "import pandas as pd \n",
    "from surprise import Reader, Dataset, SVD, NormalPredictor, BaselineOnly, KNNBasic, NMF\n",
    "from surprise.model_selection import KFold\n",
    "from surprise.model_selection import cross_validate"
   ]
  },
  {
   "cell_type": "code",
   "execution_count": 4,
   "id": "3e78aae4",
   "metadata": {},
   "outputs": [],
   "source": [
    "movies = pd.read_csv('./movielens_dataset/u.item' , header = None , sep = \"|\" , encoding='latin-1')\n",
    "movies.columns = ['movie_id' , 'movie_title' , 'release_date' , 'video_release_date' ,\n",
    "             'IMDb_URL' , 'unknown' , 'Action' , 'Adventure' , 'Animation' ,\n",
    "             'Childrens' , 'Comedy' , 'Crime' , 'Documentary' , 'Drama' , 'Fantasy' ,\n",
    "             'Film_Noir' , 'Horror' , 'Musical' , 'Mystery' , 'Romance' , 'Sci_Fi' ,\n",
    "             'Thriller' , 'War' , 'Western']\n",
    "\n",
    "users = pd.read_csv('./movielens_dataset/u.user', header= None , sep = '|')\n",
    "users.columns = ['user_id' , 'age' , 'gender' , 'occupation' , 'zip_code']\n",
    "\n",
    "ratings = pd.read_csv('./movielens_dataset/u.data', header= None , sep = '\\t')\n",
    "ratings.columns = ['user_id' , 'movie_id' , 'rating' , 'timestamp']"
   ]
  },
  {
   "cell_type": "code",
   "execution_count": 5,
   "id": "1ce43270",
   "metadata": {},
   "outputs": [
    {
     "data": {
      "text/html": [
       "<div>\n",
       "<style scoped>\n",
       "    .dataframe tbody tr th:only-of-type {\n",
       "        vertical-align: middle;\n",
       "    }\n",
       "\n",
       "    .dataframe tbody tr th {\n",
       "        vertical-align: top;\n",
       "    }\n",
       "\n",
       "    .dataframe thead th {\n",
       "        text-align: right;\n",
       "    }\n",
       "</style>\n",
       "<table border=\"1\" class=\"dataframe\">\n",
       "  <thead>\n",
       "    <tr style=\"text-align: right;\">\n",
       "      <th></th>\n",
       "      <th>user_id</th>\n",
       "      <th>movie_id</th>\n",
       "      <th>rating</th>\n",
       "      <th>timestamp</th>\n",
       "      <th>age</th>\n",
       "      <th>gender</th>\n",
       "      <th>occupation</th>\n",
       "      <th>zip_code</th>\n",
       "      <th>movie_title</th>\n",
       "      <th>release_date</th>\n",
       "      <th>...</th>\n",
       "      <th>Fantasy</th>\n",
       "      <th>Film_Noir</th>\n",
       "      <th>Horror</th>\n",
       "      <th>Musical</th>\n",
       "      <th>Mystery</th>\n",
       "      <th>Romance</th>\n",
       "      <th>Sci_Fi</th>\n",
       "      <th>Thriller</th>\n",
       "      <th>War</th>\n",
       "      <th>Western</th>\n",
       "    </tr>\n",
       "  </thead>\n",
       "  <tbody>\n",
       "    <tr>\n",
       "      <th>0</th>\n",
       "      <td>196</td>\n",
       "      <td>242</td>\n",
       "      <td>3</td>\n",
       "      <td>881250949</td>\n",
       "      <td>49</td>\n",
       "      <td>M</td>\n",
       "      <td>writer</td>\n",
       "      <td>55105</td>\n",
       "      <td>Kolya (1996)</td>\n",
       "      <td>24-Jan-1997</td>\n",
       "      <td>...</td>\n",
       "      <td>0</td>\n",
       "      <td>0</td>\n",
       "      <td>0</td>\n",
       "      <td>0</td>\n",
       "      <td>0</td>\n",
       "      <td>0</td>\n",
       "      <td>0</td>\n",
       "      <td>0</td>\n",
       "      <td>0</td>\n",
       "      <td>0</td>\n",
       "    </tr>\n",
       "    <tr>\n",
       "      <th>1</th>\n",
       "      <td>305</td>\n",
       "      <td>242</td>\n",
       "      <td>5</td>\n",
       "      <td>886307828</td>\n",
       "      <td>23</td>\n",
       "      <td>M</td>\n",
       "      <td>programmer</td>\n",
       "      <td>94086</td>\n",
       "      <td>Kolya (1996)</td>\n",
       "      <td>24-Jan-1997</td>\n",
       "      <td>...</td>\n",
       "      <td>0</td>\n",
       "      <td>0</td>\n",
       "      <td>0</td>\n",
       "      <td>0</td>\n",
       "      <td>0</td>\n",
       "      <td>0</td>\n",
       "      <td>0</td>\n",
       "      <td>0</td>\n",
       "      <td>0</td>\n",
       "      <td>0</td>\n",
       "    </tr>\n",
       "    <tr>\n",
       "      <th>2</th>\n",
       "      <td>6</td>\n",
       "      <td>242</td>\n",
       "      <td>4</td>\n",
       "      <td>883268170</td>\n",
       "      <td>42</td>\n",
       "      <td>M</td>\n",
       "      <td>executive</td>\n",
       "      <td>98101</td>\n",
       "      <td>Kolya (1996)</td>\n",
       "      <td>24-Jan-1997</td>\n",
       "      <td>...</td>\n",
       "      <td>0</td>\n",
       "      <td>0</td>\n",
       "      <td>0</td>\n",
       "      <td>0</td>\n",
       "      <td>0</td>\n",
       "      <td>0</td>\n",
       "      <td>0</td>\n",
       "      <td>0</td>\n",
       "      <td>0</td>\n",
       "      <td>0</td>\n",
       "    </tr>\n",
       "  </tbody>\n",
       "</table>\n",
       "<p>3 rows × 31 columns</p>\n",
       "</div>"
      ],
      "text/plain": [
       "   user_id  movie_id  rating  timestamp  age gender  occupation zip_code  \\\n",
       "0      196       242       3  881250949   49      M      writer    55105   \n",
       "1      305       242       5  886307828   23      M  programmer    94086   \n",
       "2        6       242       4  883268170   42      M   executive    98101   \n",
       "\n",
       "    movie_title release_date  ...  Fantasy Film_Noir  Horror  Musical  \\\n",
       "0  Kolya (1996)  24-Jan-1997  ...        0         0       0        0   \n",
       "1  Kolya (1996)  24-Jan-1997  ...        0         0       0        0   \n",
       "2  Kolya (1996)  24-Jan-1997  ...        0         0       0        0   \n",
       "\n",
       "   Mystery  Romance  Sci_Fi  Thriller  War  Western  \n",
       "0        0        0       0         0    0        0  \n",
       "1        0        0       0         0    0        0  \n",
       "2        0        0       0         0    0        0  \n",
       "\n",
       "[3 rows x 31 columns]"
      ]
     },
     "execution_count": 5,
     "metadata": {},
     "output_type": "execute_result"
    }
   ],
   "source": [
    "data = ratings.merge(users , on='user_id')\n",
    "data = data.merge(movies , on='movie_id')\n",
    "data.head(3)"
   ]
  },
  {
   "cell_type": "code",
   "execution_count": 6,
   "id": "3a5fbf97",
   "metadata": {},
   "outputs": [
    {
     "data": {
      "text/plain": [
       "<generator object KFold.split at 0x7f99205cb970>"
      ]
     },
     "execution_count": 6,
     "metadata": {},
     "output_type": "execute_result"
    }
   ],
   "source": [
    "reader = Reader()\n",
    "dataset = Dataset.load_from_df(data[['user_id', 'movie_id', 'rating']], reader)\n",
    "kf = KFold(n_splits=5)\n",
    "kf.split(dataset)"
   ]
  },
  {
   "cell_type": "code",
   "execution_count": 5,
   "id": "63b566df",
   "metadata": {},
   "outputs": [
    {
     "name": "stdout",
     "output_type": "stream",
     "text": [
      "Evaluating RMSE, MAE of algorithm NormalPredictor on 5 split(s).\n",
      "\n",
      "                  Fold 1  Fold 2  Fold 3  Fold 4  Fold 5  Mean    Std     \n",
      "RMSE (testset)    1.5143  1.5215  1.5113  1.5098  1.5110  1.5135  0.0042  \n",
      "MAE (testset)     1.2150  1.2189  1.2133  1.2117  1.2118  1.2142  0.0027  \n",
      "Fit time          0.10    0.13    0.13    0.14    0.13    0.13    0.01    \n",
      "Test time         0.19    0.13    0.14    0.19    0.18    0.17    0.02    \n"
     ]
    },
    {
     "data": {
      "text/plain": [
       "{'test_rmse': array([1.51425978, 1.52148053, 1.51126707, 1.50976416, 1.51095733]),\n",
       " 'test_mae': array([1.214998  , 1.21894758, 1.21330018, 1.21171602, 1.21181009]),\n",
       " 'fit_time': (0.10125041007995605,\n",
       "  0.12813353538513184,\n",
       "  0.13375282287597656,\n",
       "  0.1360940933227539,\n",
       "  0.13320159912109375),\n",
       " 'test_time': (0.19108080863952637,\n",
       "  0.1343975067138672,\n",
       "  0.13960862159729004,\n",
       "  0.18828415870666504,\n",
       "  0.18171238899230957)}"
      ]
     },
     "execution_count": 5,
     "metadata": {},
     "output_type": "execute_result"
    }
   ],
   "source": [
    "algorithm = NormalPredictor()\n",
    "cross_validate(algorithm, dataset, measures=['RMSE', 'MAE'], cv=5, verbose=True)"
   ]
  },
  {
   "cell_type": "code",
   "execution_count": 6,
   "id": "6590b9eb",
   "metadata": {},
   "outputs": [
    {
     "name": "stdout",
     "output_type": "stream",
     "text": [
      "Evaluating RMSE, MAE of algorithm SVD on 5 split(s).\n",
      "\n",
      "                  Fold 1  Fold 2  Fold 3  Fold 4  Fold 5  Mean    Std     \n",
      "RMSE (testset)    0.9333  0.9423  0.9334  0.9354  0.9340  0.9357  0.0034  \n",
      "MAE (testset)     0.7357  0.7432  0.7338  0.7374  0.7380  0.7376  0.0031  \n",
      "Fit time          6.40    7.37    6.97    6.17    6.66    6.71    0.42    \n",
      "Test time         0.15    0.19    0.13    0.14    0.17    0.16    0.02    \n"
     ]
    },
    {
     "data": {
      "text/plain": [
       "{'test_rmse': array([0.93330953, 0.94229762, 0.93340524, 0.93543194, 0.93400545]),\n",
       " 'test_mae': array([0.73572345, 0.7432017 , 0.73381064, 0.73739257, 0.73796651]),\n",
       " 'fit_time': (6.4001545906066895,\n",
       "  7.366527080535889,\n",
       "  6.969428300857544,\n",
       "  6.166753530502319,\n",
       "  6.66348123550415),\n",
       " 'test_time': (0.14932990074157715,\n",
       "  0.1907520294189453,\n",
       "  0.13091206550598145,\n",
       "  0.13720703125,\n",
       "  0.17358756065368652)}"
      ]
     },
     "execution_count": 6,
     "metadata": {},
     "output_type": "execute_result"
    }
   ],
   "source": [
    "algorithm = SVD()\n",
    "cross_validate(algorithm, dataset, measures=['RMSE', 'MAE'], cv=5, verbose=True)"
   ]
  },
  {
   "cell_type": "code",
   "execution_count": 7,
   "id": "f12077f7",
   "metadata": {},
   "outputs": [
    {
     "name": "stdout",
     "output_type": "stream",
     "text": [
      "Computing the msd similarity matrix...\n",
      "Done computing similarity matrix.\n",
      "Computing the msd similarity matrix...\n",
      "Done computing similarity matrix.\n",
      "Computing the msd similarity matrix...\n",
      "Done computing similarity matrix.\n",
      "Computing the msd similarity matrix...\n",
      "Done computing similarity matrix.\n",
      "Computing the msd similarity matrix...\n",
      "Done computing similarity matrix.\n",
      "Evaluating RMSE, MAE of algorithm KNNBasic on 5 split(s).\n",
      "\n",
      "                  Fold 1  Fold 2  Fold 3  Fold 4  Fold 5  Mean    Std     \n",
      "RMSE (testset)    0.9752  0.9767  0.9767  0.9792  0.9772  0.9770  0.0013  \n",
      "MAE (testset)     0.7684  0.7701  0.7713  0.7725  0.7706  0.7706  0.0014  \n",
      "Fit time          0.26    0.27    0.30    0.31    0.27    0.28    0.02    \n",
      "Test time         2.33    2.26    2.30    2.38    2.37    2.33    0.04    \n"
     ]
    },
    {
     "data": {
      "text/plain": [
       "{'test_rmse': array([0.97523472, 0.97669678, 0.97674796, 0.97916361, 0.9772161 ]),\n",
       " 'test_mae': array([0.76842078, 0.7700646 , 0.77127075, 0.77253517, 0.77060034]),\n",
       " 'fit_time': (0.2559497356414795,\n",
       "  0.2668159008026123,\n",
       "  0.2952394485473633,\n",
       "  0.3067927360534668,\n",
       "  0.26993441581726074),\n",
       " 'test_time': (2.33162260055542,\n",
       "  2.260124921798706,\n",
       "  2.3034017086029053,\n",
       "  2.375002145767212,\n",
       "  2.366453170776367)}"
      ]
     },
     "execution_count": 7,
     "metadata": {},
     "output_type": "execute_result"
    }
   ],
   "source": [
    "algorithm = KNNBasic(k=20)\n",
    "cross_validate(algorithm, dataset, measures=['RMSE', 'MAE'], cv=5, verbose=True)"
   ]
  },
  {
   "cell_type": "code",
   "execution_count": 8,
   "id": "87e17b5c",
   "metadata": {},
   "outputs": [
    {
     "name": "stdout",
     "output_type": "stream",
     "text": [
      "Computing the msd similarity matrix...\n",
      "Done computing similarity matrix.\n",
      "Computing the msd similarity matrix...\n",
      "Done computing similarity matrix.\n",
      "Computing the msd similarity matrix...\n",
      "Done computing similarity matrix.\n",
      "Computing the msd similarity matrix...\n",
      "Done computing similarity matrix.\n",
      "Computing the msd similarity matrix...\n",
      "Done computing similarity matrix.\n",
      "Evaluating RMSE, MAE of algorithm KNNBasic on 5 split(s).\n",
      "\n",
      "                  Fold 1  Fold 2  Fold 3  Fold 4  Fold 5  Mean    Std     \n",
      "RMSE (testset)    0.9820  0.9839  0.9840  0.9848  0.9812  0.9832  0.0014  \n",
      "MAE (testset)     0.7757  0.7776  0.7766  0.7774  0.7740  0.7763  0.0013  \n",
      "Fit time          0.46    0.51    0.46    0.50    0.44    0.47    0.03    \n",
      "Test time         2.78    2.86    2.83    2.77    2.66    2.78    0.07    \n"
     ]
    },
    {
     "data": {
      "text/plain": [
       "{'test_rmse': array([0.98202273, 0.98394501, 0.98404681, 0.98480242, 0.98117066]),\n",
       " 'test_mae': array([0.77571131, 0.77761229, 0.77661958, 0.7774048 , 0.7740139 ]),\n",
       " 'fit_time': (0.45612668991088867,\n",
       "  0.5093095302581787,\n",
       "  0.4637179374694824,\n",
       "  0.5021648406982422,\n",
       "  0.4422900676727295),\n",
       " 'test_time': (2.7753746509552,\n",
       "  2.860525369644165,\n",
       "  2.8316128253936768,\n",
       "  2.77130389213562,\n",
       "  2.6636292934417725)}"
      ]
     },
     "execution_count": 8,
     "metadata": {},
     "output_type": "execute_result"
    }
   ],
   "source": [
    "algorithm = KNNBasic(sim_options={'user_based': False} , k=20) # https://surprise.readthedocs.io/en/stable/prediction_algorithms.html#similarity-measure-configuration\n",
    "cross_validate(algorithm, dataset, measures=['RMSE', 'MAE'], cv=5, verbose=True)"
   ]
  },
  {
   "cell_type": "code",
   "execution_count": 9,
   "id": "e9a4e339",
   "metadata": {},
   "outputs": [
    {
     "name": "stdout",
     "output_type": "stream",
     "text": [
      "Evaluating RMSE, MAE of algorithm NMF on 5 split(s).\n",
      "\n",
      "                  Fold 1  Fold 2  Fold 3  Fold 4  Fold 5  Mean    Std     \n",
      "RMSE (testset)    0.9574  0.9684  0.9671  0.9570  0.9714  0.9642  0.0059  \n",
      "MAE (testset)     0.7559  0.7596  0.7590  0.7529  0.7623  0.7579  0.0032  \n",
      "Fit time          4.30    4.28    4.29    4.28    4.25    4.28    0.02    \n",
      "Test time         0.11    0.15    0.15    0.11    0.16    0.14    0.02    \n"
     ]
    },
    {
     "data": {
      "text/plain": [
       "{'test_rmse': array([0.95741139, 0.96836161, 0.96707204, 0.95699722, 0.97139041]),\n",
       " 'test_mae': array([0.75588511, 0.75961746, 0.75904561, 0.75287508, 0.76227074]),\n",
       " 'fit_time': (4.29699969291687,\n",
       "  4.2832114696502686,\n",
       "  4.287365913391113,\n",
       "  4.279693841934204,\n",
       "  4.249091625213623),\n",
       " 'test_time': (0.11280989646911621,\n",
       "  0.1497507095336914,\n",
       "  0.15164566040039062,\n",
       "  0.1120767593383789,\n",
       "  0.15675616264343262)}"
      ]
     },
     "execution_count": 9,
     "metadata": {},
     "output_type": "execute_result"
    }
   ],
   "source": [
    "algorithm = NMF()\n",
    "cross_validate(algorithm, dataset, measures=['RMSE', 'MAE'], cv=5, verbose=True)"
   ]
  },
  {
   "cell_type": "code",
   "execution_count": 7,
   "id": "0bae813c",
   "metadata": {},
   "outputs": [
    {
     "data": {
      "text/plain": [
       "<surprise.prediction_algorithms.matrix_factorization.SVD at 0x7f9920994c70>"
      ]
     },
     "execution_count": 7,
     "metadata": {},
     "output_type": "execute_result"
    }
   ],
   "source": [
    "trainset = dataset.build_full_trainset()\n",
    "algorithm = SVD(n_factors = 200 , lr_all = 0.005 , reg_all = 0.02 , n_epochs = 40 , init_std_dev = 0.05)\n",
    "algorithm.fit(trainset)"
   ]
  },
  {
   "cell_type": "code",
   "execution_count": 8,
   "id": "6e08f155",
   "metadata": {},
   "outputs": [],
   "source": [
    "def get_recommendations(uid = None , iid = None):\n",
    "    predictions = []\n",
    "    if uid is None:\n",
    "        for ui in trainset.all_users():\n",
    "            predictions.append(algorithm.predict(ui, iid, verbose = False))\n",
    "        return predictions\n",
    "    \n",
    "    if iid is None:\n",
    "        for ii in trainset.all_items():\n",
    "            ii = trainset.to_raw_iid(ii)\n",
    "            predictions.append(algorithm.predict(uid, ii, verbose = False))\n",
    "        return predictions\n",
    "    return predictins.append(algorithm.predict(uid,iid,verbose = False))"
   ]
  },
  {
   "cell_type": "code",
   "execution_count": 9,
   "id": "114a7470",
   "metadata": {},
   "outputs": [
    {
     "data": {
      "text/plain": [
       "[Prediction(uid=1, iid=302, r_ui=None, est=5, details={'was_impossible': False}),\n",
       " Prediction(uid=1, iid=511, r_ui=None, est=5, details={'was_impossible': False}),\n",
       " Prediction(uid=1, iid=154, r_ui=None, est=5, details={'was_impossible': False}),\n",
       " Prediction(uid=1, iid=174, r_ui=None, est=5, details={'was_impossible': False}),\n",
       " Prediction(uid=1, iid=652, r_ui=None, est=5, details={'was_impossible': False}),\n",
       " Prediction(uid=1, iid=169, r_ui=None, est=5, details={'was_impossible': False}),\n",
       " Prediction(uid=1, iid=171, r_ui=None, est=5, details={'was_impossible': False}),\n",
       " Prediction(uid=1, iid=48, r_ui=None, est=5, details={'was_impossible': False}),\n",
       " Prediction(uid=1, iid=50, r_ui=None, est=4.982723791553698, details={'was_impossible': False}),\n",
       " Prediction(uid=1, iid=109, r_ui=None, est=4.974462115714218, details={'was_impossible': False}),\n",
       " Prediction(uid=1, iid=175, r_ui=None, est=4.969747673114561, details={'was_impossible': False}),\n",
       " Prediction(uid=1, iid=87, r_ui=None, est=4.968796966239657, details={'was_impossible': False}),\n",
       " Prediction(uid=1, iid=170, r_ui=None, est=4.96256239987337, details={'was_impossible': False}),\n",
       " Prediction(uid=1, iid=223, r_ui=None, est=4.9592762438220035, details={'was_impossible': False}),\n",
       " Prediction(uid=1, iid=178, r_ui=None, est=4.9565569115184065, details={'was_impossible': False}),\n",
       " Prediction(uid=1, iid=100, r_ui=None, est=4.954885704918471, details={'was_impossible': False}),\n",
       " Prediction(uid=1, iid=198, r_ui=None, est=4.952234242573817, details={'was_impossible': False}),\n",
       " Prediction(uid=1, iid=60, r_ui=None, est=4.94727010246223, details={'was_impossible': False}),\n",
       " Prediction(uid=1, iid=124, r_ui=None, est=4.9195236614913505, details={'was_impossible': False}),\n",
       " Prediction(uid=1, iid=45, r_ui=None, est=4.913486916642585, details={'was_impossible': False}),\n",
       " Prediction(uid=1, iid=89, r_ui=None, est=4.900266877774792, details={'was_impossible': False}),\n",
       " Prediction(uid=1, iid=150, r_ui=None, est=4.899511909714504, details={'was_impossible': False}),\n",
       " Prediction(uid=1, iid=172, r_ui=None, est=4.894149434082015, details={'was_impossible': False}),\n",
       " Prediction(uid=1, iid=258, r_ui=None, est=4.869357845215447, details={'was_impossible': False}),\n",
       " Prediction(uid=1, iid=64, r_ui=None, est=4.838496988775043, details={'was_impossible': False}),\n",
       " Prediction(uid=1, iid=12, r_ui=None, est=4.837878449926316, details={'was_impossible': False}),\n",
       " Prediction(uid=1, iid=246, r_ui=None, est=4.835815090023559, details={'was_impossible': False}),\n",
       " Prediction(uid=1, iid=750, r_ui=None, est=4.817773785067921, details={'was_impossible': False}),\n",
       " Prediction(uid=1, iid=137, r_ui=None, est=4.810713161582362, details={'was_impossible': False}),\n",
       " Prediction(uid=1, iid=96, r_ui=None, est=4.8070058991512195, details={'was_impossible': False}),\n",
       " Prediction(uid=1, iid=474, r_ui=None, est=4.799199396695382, details={'was_impossible': False}),\n",
       " Prediction(uid=1, iid=268, r_ui=None, est=4.79803462742903, details={'was_impossible': False}),\n",
       " Prediction(uid=1, iid=285, r_ui=None, est=4.792102392073217, details={'was_impossible': False}),\n",
       " Prediction(uid=1, iid=513, r_ui=None, est=4.770101106956105, details={'was_impossible': False}),\n",
       " Prediction(uid=1, iid=55, r_ui=None, est=4.761581825802445, details={'was_impossible': False}),\n",
       " Prediction(uid=1, iid=183, r_ui=None, est=4.751142020499813, details={'was_impossible': False}),\n",
       " Prediction(uid=1, iid=119, r_ui=None, est=4.749271715476207, details={'was_impossible': False}),\n",
       " Prediction(uid=1, iid=181, r_ui=None, est=4.746623863401785, details={'was_impossible': False}),\n",
       " Prediction(uid=1, iid=152, r_ui=None, est=4.746067141156443, details={'was_impossible': False}),\n",
       " Prediction(uid=1, iid=483, r_ui=None, est=4.744276156398528, details={'was_impossible': False}),\n",
       " Prediction(uid=1, iid=173, r_ui=None, est=4.743721729702555, details={'was_impossible': False}),\n",
       " Prediction(uid=1, iid=176, r_ui=None, est=4.7390060486464956, details={'was_impossible': False}),\n",
       " Prediction(uid=1, iid=129, r_ui=None, est=4.73822993341916, details={'was_impossible': False}),\n",
       " Prediction(uid=1, iid=114, r_ui=None, est=4.732526016635543, details={'was_impossible': False}),\n",
       " Prediction(uid=1, iid=224, r_ui=None, est=4.731775705066997, details={'was_impossible': False}),\n",
       " Prediction(uid=1, iid=1, r_ui=None, est=4.716394406359908, details={'was_impossible': False}),\n",
       " Prediction(uid=1, iid=197, r_ui=None, est=4.712294203953439, details={'was_impossible': False}),\n",
       " Prediction(uid=1, iid=647, r_ui=None, est=4.711674064374197, details={'was_impossible': False}),\n",
       " Prediction(uid=1, iid=1449, r_ui=None, est=4.711047155039349, details={'was_impossible': False}),\n",
       " Prediction(uid=1, iid=516, r_ui=None, est=4.702041508123999, details={'was_impossible': False})]"
      ]
     },
     "execution_count": 9,
     "metadata": {},
     "output_type": "execute_result"
    }
   ],
   "source": [
    "predictions = get_recommendations(uid = 1)\n",
    "predictions.sort(key=lambda x: x.est, reverse=True)"
   ]
  },
  {
   "cell_type": "code",
   "execution_count": 19,
   "id": "292fafd9",
   "metadata": {},
   "outputs": [
    {
     "data": {
      "text/plain": [
       "'12 Angry Men (1957)'"
      ]
     },
     "execution_count": 19,
     "metadata": {},
     "output_type": "execute_result"
    }
   ],
   "source": [
    "str(movies[movies['movie_id'] == int('178')]['movie_title'].to_numpy()[0])"
   ]
  },
  {
   "cell_type": "code",
   "execution_count": null,
   "id": "b0d9b416",
   "metadata": {},
   "outputs": [],
   "source": []
  }
 ],
 "metadata": {
  "kernelspec": {
   "display_name": "Python 3 (ipykernel)",
   "language": "python",
   "name": "python3"
  },
  "language_info": {
   "codemirror_mode": {
    "name": "ipython",
    "version": 3
   },
   "file_extension": ".py",
   "mimetype": "text/x-python",
   "name": "python",
   "nbconvert_exporter": "python",
   "pygments_lexer": "ipython3",
   "version": "3.8.4"
  }
 },
 "nbformat": 4,
 "nbformat_minor": 5
}
